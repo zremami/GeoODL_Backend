{
 "cells": [
  {
   "cell_type": "code",
   "execution_count": 4,
   "metadata": {},
   "outputs": [
    {
     "ename": "ImportError",
     "evalue": "cannot import name 'Mapping' from 'collections' (/usr/lib/python3.10/collections/__init__.py)",
     "output_type": "error",
     "traceback": [
      "\u001b[0;31m---------------------------------------------------------------------------\u001b[0m",
      "\u001b[0;31mImportError\u001b[0m                               Traceback (most recent call last)",
      "\u001b[1;32m/home/raha/Projects/myproject/preprocessingpractice.ipynb Cell 1\u001b[0m in \u001b[0;36m<cell line: 1>\u001b[0;34m()\u001b[0m\n\u001b[0;32m----> <a href='vscode-notebook-cell:/home/raha/Projects/myproject/preprocessingpractice.ipynb#W0sZmlsZQ%3D%3D?line=0'>1</a>\u001b[0m \u001b[39mfrom\u001b[39;00m \u001b[39mWFSOWSLibRepository\u001b[39;00m \u001b[39mimport\u001b[39;00m getOdl_1h, getPrecipitation_15min\n\u001b[1;32m      <a href='vscode-notebook-cell:/home/raha/Projects/myproject/preprocessingpractice.ipynb#W0sZmlsZQ%3D%3D?line=1'>2</a>\u001b[0m \u001b[39mimport\u001b[39;00m \u001b[39mpandas\u001b[39;00m \u001b[39mas\u001b[39;00m \u001b[39mpd\u001b[39;00m\n\u001b[1;32m      <a href='vscode-notebook-cell:/home/raha/Projects/myproject/preprocessingpractice.ipynb#W0sZmlsZQ%3D%3D?line=2'>3</a>\u001b[0m \u001b[39mimport\u001b[39;00m \u001b[39mnumpy\u001b[39;00m \u001b[39mas\u001b[39;00m \u001b[39mnp\u001b[39;00m\n",
      "File \u001b[0;32m~/Projects/myproject/WFSOWSLibRepository.py:1\u001b[0m, in \u001b[0;36m<module>\u001b[0;34m\u001b[0m\n\u001b[0;32m----> 1\u001b[0m \u001b[39mfrom\u001b[39;00m \u001b[39mflask\u001b[39;00m \u001b[39mimport\u001b[39;00m Flask\n\u001b[1;32m      2\u001b[0m \u001b[39mfrom\u001b[39;00m \u001b[39mowslib\u001b[39;00m\u001b[39m.\u001b[39;00m\u001b[39mfes\u001b[39;00m \u001b[39mimport\u001b[39;00m \u001b[39m*\u001b[39m\n\u001b[1;32m      3\u001b[0m \u001b[39mimport\u001b[39;00m \u001b[39mdatetime\u001b[39;00m\n",
      "File \u001b[0;32m~/.local/lib/python3.10/site-packages/flask/__init__.py:19\u001b[0m, in \u001b[0;36m<module>\u001b[0;34m\u001b[0m\n\u001b[1;32m     17\u001b[0m \u001b[39mfrom\u001b[39;00m \u001b[39mwerkzeug\u001b[39;00m\u001b[39m.\u001b[39;00m\u001b[39mexceptions\u001b[39;00m \u001b[39mimport\u001b[39;00m abort\n\u001b[1;32m     18\u001b[0m \u001b[39mfrom\u001b[39;00m \u001b[39mwerkzeug\u001b[39;00m\u001b[39m.\u001b[39;00m\u001b[39mutils\u001b[39;00m \u001b[39mimport\u001b[39;00m redirect\n\u001b[0;32m---> 19\u001b[0m \u001b[39mfrom\u001b[39;00m \u001b[39mjinja2\u001b[39;00m \u001b[39mimport\u001b[39;00m Markup, escape\n\u001b[1;32m     21\u001b[0m \u001b[39mfrom\u001b[39;00m \u001b[39m.\u001b[39;00m\u001b[39mapp\u001b[39;00m \u001b[39mimport\u001b[39;00m Flask, Request, Response\n\u001b[1;32m     22\u001b[0m \u001b[39mfrom\u001b[39;00m \u001b[39m.\u001b[39;00m\u001b[39mconfig\u001b[39;00m \u001b[39mimport\u001b[39;00m Config\n",
      "File \u001b[0;32m~/.local/lib/python3.10/site-packages/jinja2/__init__.py:33\u001b[0m, in \u001b[0;36m<module>\u001b[0;34m\u001b[0m\n\u001b[1;32m     30\u001b[0m __version__ \u001b[39m=\u001b[39m \u001b[39m'\u001b[39m\u001b[39m2.10.1\u001b[39m\u001b[39m'\u001b[39m\n\u001b[1;32m     32\u001b[0m \u001b[39m# high level interface\u001b[39;00m\n\u001b[0;32m---> 33\u001b[0m \u001b[39mfrom\u001b[39;00m \u001b[39mjinja2\u001b[39;00m\u001b[39m.\u001b[39;00m\u001b[39menvironment\u001b[39;00m \u001b[39mimport\u001b[39;00m Environment, Template\n\u001b[1;32m     35\u001b[0m \u001b[39m# loaders\u001b[39;00m\n\u001b[1;32m     36\u001b[0m \u001b[39mfrom\u001b[39;00m \u001b[39mjinja2\u001b[39;00m\u001b[39m.\u001b[39;00m\u001b[39mloaders\u001b[39;00m \u001b[39mimport\u001b[39;00m BaseLoader, FileSystemLoader, PackageLoader, \\\n\u001b[1;32m     37\u001b[0m      DictLoader, FunctionLoader, PrefixLoader, ChoiceLoader, \\\n\u001b[1;32m     38\u001b[0m      ModuleLoader\n",
      "File \u001b[0;32m~/.local/lib/python3.10/site-packages/jinja2/environment.py:16\u001b[0m, in \u001b[0;36m<module>\u001b[0;34m\u001b[0m\n\u001b[1;32m     14\u001b[0m \u001b[39mfrom\u001b[39;00m \u001b[39mfunctools\u001b[39;00m \u001b[39mimport\u001b[39;00m reduce, partial\n\u001b[1;32m     15\u001b[0m \u001b[39mfrom\u001b[39;00m \u001b[39mjinja2\u001b[39;00m \u001b[39mimport\u001b[39;00m nodes\n\u001b[0;32m---> 16\u001b[0m \u001b[39mfrom\u001b[39;00m \u001b[39mjinja2\u001b[39;00m\u001b[39m.\u001b[39;00m\u001b[39mdefaults\u001b[39;00m \u001b[39mimport\u001b[39;00m BLOCK_START_STRING, \\\n\u001b[1;32m     17\u001b[0m      BLOCK_END_STRING, VARIABLE_START_STRING, VARIABLE_END_STRING, \\\n\u001b[1;32m     18\u001b[0m      COMMENT_START_STRING, COMMENT_END_STRING, LINE_STATEMENT_PREFIX, \\\n\u001b[1;32m     19\u001b[0m      LINE_COMMENT_PREFIX, TRIM_BLOCKS, NEWLINE_SEQUENCE, \\\n\u001b[1;32m     20\u001b[0m      DEFAULT_FILTERS, DEFAULT_TESTS, DEFAULT_NAMESPACE, \\\n\u001b[1;32m     21\u001b[0m      DEFAULT_POLICIES, KEEP_TRAILING_NEWLINE, LSTRIP_BLOCKS\n\u001b[1;32m     22\u001b[0m \u001b[39mfrom\u001b[39;00m \u001b[39mjinja2\u001b[39;00m\u001b[39m.\u001b[39;00m\u001b[39mlexer\u001b[39;00m \u001b[39mimport\u001b[39;00m get_lexer, TokenStream\n\u001b[1;32m     23\u001b[0m \u001b[39mfrom\u001b[39;00m \u001b[39mjinja2\u001b[39;00m\u001b[39m.\u001b[39;00m\u001b[39mparser\u001b[39;00m \u001b[39mimport\u001b[39;00m Parser\n",
      "File \u001b[0;32m~/.local/lib/python3.10/site-packages/jinja2/defaults.py:32\u001b[0m, in \u001b[0;36m<module>\u001b[0;34m\u001b[0m\n\u001b[1;32m     30\u001b[0m \u001b[39m# default filters, tests and namespace\u001b[39;00m\n\u001b[1;32m     31\u001b[0m \u001b[39mfrom\u001b[39;00m \u001b[39mjinja2\u001b[39;00m\u001b[39m.\u001b[39;00m\u001b[39mfilters\u001b[39;00m \u001b[39mimport\u001b[39;00m FILTERS \u001b[39mas\u001b[39;00m DEFAULT_FILTERS\n\u001b[0;32m---> 32\u001b[0m \u001b[39mfrom\u001b[39;00m \u001b[39mjinja2\u001b[39;00m\u001b[39m.\u001b[39;00m\u001b[39mtests\u001b[39;00m \u001b[39mimport\u001b[39;00m TESTS \u001b[39mas\u001b[39;00m DEFAULT_TESTS\n\u001b[1;32m     33\u001b[0m DEFAULT_NAMESPACE \u001b[39m=\u001b[39m {\n\u001b[1;32m     34\u001b[0m     \u001b[39m'\u001b[39m\u001b[39mrange\u001b[39m\u001b[39m'\u001b[39m:        range_type,\n\u001b[1;32m     35\u001b[0m     \u001b[39m'\u001b[39m\u001b[39mdict\u001b[39m\u001b[39m'\u001b[39m:         \u001b[39mdict\u001b[39m,\n\u001b[0;32m   (...)\u001b[0m\n\u001b[1;32m     39\u001b[0m     \u001b[39m'\u001b[39m\u001b[39mnamespace\u001b[39m\u001b[39m'\u001b[39m:    Namespace\n\u001b[1;32m     40\u001b[0m }\n\u001b[1;32m     43\u001b[0m \u001b[39m# default policies\u001b[39;00m\n",
      "File \u001b[0;32m~/.local/lib/python3.10/site-packages/jinja2/tests.py:13\u001b[0m, in \u001b[0;36m<module>\u001b[0;34m\u001b[0m\n\u001b[1;32m     11\u001b[0m \u001b[39mimport\u001b[39;00m \u001b[39moperator\u001b[39;00m\n\u001b[1;32m     12\u001b[0m \u001b[39mimport\u001b[39;00m \u001b[39mre\u001b[39;00m\n\u001b[0;32m---> 13\u001b[0m \u001b[39mfrom\u001b[39;00m \u001b[39mcollections\u001b[39;00m \u001b[39mimport\u001b[39;00m Mapping\n\u001b[1;32m     14\u001b[0m \u001b[39mfrom\u001b[39;00m \u001b[39mjinja2\u001b[39;00m\u001b[39m.\u001b[39;00m\u001b[39mruntime\u001b[39;00m \u001b[39mimport\u001b[39;00m Undefined\n\u001b[1;32m     15\u001b[0m \u001b[39mfrom\u001b[39;00m \u001b[39mjinja2\u001b[39;00m\u001b[39m.\u001b[39;00m\u001b[39m_compat\u001b[39;00m \u001b[39mimport\u001b[39;00m text_type, string_types, integer_types\n",
      "\u001b[0;31mImportError\u001b[0m: cannot import name 'Mapping' from 'collections' (/usr/lib/python3.10/collections/__init__.py)"
     ]
    }
   ],
   "source": [
    "from WFSOWSLibRepository import getOdl_1h, getPrecipitation_15min\n",
    "import pandas as pd\n",
    "import numpy as np\n",
    "from IPython.display import display\n",
    "from matplotlib import pyplot as plt\n",
    "\n",
    "\n",
    "data1 = getOdl_1h()\n",
    "#data2 = getPrecipitation_15min()\n",
    "datanorm1= pd.json_normalize(data1,\"features\")\n",
    "df1=pd.DataFrame(datanorm1)\n",
    "print(df1.sum())\n",
    "print(df1.info())\n",
    "print(df1.describe())\n",
    "print(df1[['geometry.type','geometry.coordinates','properties.id','properties.locality_name','properties.start','properties.end_measure']].describe())\n",
    "print(df1[['properties.unit','properties.value_e','properties.nuclide','properties.duration','properties.dom','properties.source','properties.network_id']].describe())\n",
    "display(df1[['geometry.type','geometry.coordinates','properties.id','properties.locality_name']].head())\n",
    "display(df1[['properties.start','properties.end_measure','properties.unit','properties.value']].head())\n",
    "\n",
    "#,'properties.unit','properties.value_e','properties.value','properties.nuclide','properties.duration','properties.dom','properties.source','properties.network_id'\n",
    "#print(tabulate(df1[['geometry.type','geometry.coordinates','properties.id','properties.locality_name','properties.start','properties.end_measure','properties.value']].head(), headers = 'keys', tablefmt = 'psql'))\n",
    "\n",
    "\n",
    "df1['properties.end_measure'] = pd.to_datetime(df1['properties.end_measure']).dt.tz_localize(None)\n",
    "df1['properties.start'] = pd.to_datetime(df1['properties.end_measure']).dt.tz_localize(None)\n",
    "df1 = df1.set_index(df1['properties.end_measure'])\n",
    "df1=df1.resample('M').mean()\n",
    "df1.plot()\n",
    "plt.savefig('filename.jpg')\n",
    "plt.show()"
   ]
  }
 ],
 "metadata": {
  "kernelspec": {
   "display_name": "Python 3.10.6 64-bit",
   "language": "python",
   "name": "python3"
  },
  "language_info": {
   "codemirror_mode": {
    "name": "ipython",
    "version": 3
   },
   "file_extension": ".py",
   "mimetype": "text/x-python",
   "name": "python",
   "nbconvert_exporter": "python",
   "pygments_lexer": "ipython3",
   "version": "3.10.6"
  },
  "orig_nbformat": 4,
  "vscode": {
   "interpreter": {
    "hash": "31f2aee4e71d21fbe5cf8b01ff0e069b9275f58929596ceb00d14d90e3e16cd6"
   }
  }
 },
 "nbformat": 4,
 "nbformat_minor": 2
}
