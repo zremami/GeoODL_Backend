{
 "cells": [
  {
   "cell_type": "code",
   "execution_count": null,
   "metadata": {},
   "outputs": [],
   "source": [
    "from WFSOWSLibRepository import getOdl_1h, getPrecipitation_15min\n",
    "import pandas as pd\n",
    "import numpy as np\n",
    "from IPython.display import display\n",
    "from matplotlib import pyplot as plt\n",
    "import seaborn as sns\n",
    "\n",
    "\n",
    "data1 = getOdl_1h()\n",
    "#data2 = getPrecipitation_15min()\n",
    "datanorm1= pd.json_normalize(data1,\"features\")\n",
    "df1=pd.DataFrame(datanorm1)"
   ]
  },
  {
   "cell_type": "code",
   "execution_count": null,
   "metadata": {},
   "outputs": [],
   "source": [
    "\n",
    "print(df1.sum())\n",
    "print(df1.info())\n",
    "print(df1.describe())\n",
    "print(df1[['geometry.type','geometry.coordinates','properties.id','properties.locality_name','properties.start','properties.end_measure']].describe())\n",
    "print(df1[['properties.unit','properties.value_e','properties.nuclide','properties.duration','properties.dom','properties.source','properties.network_id']].describe())\n",
    "print(df1[['geometry.type','geometry.coordinates','properties.id','properties.locality_name','properties.start','properties.end_measure','properties.unit','properties.value']].head())\n",
    "print(df1.sort_values(by='properties.start', ascending=False).head())\n",
    "\n",
    "#,'properties.unit','properties.value_e','properties.value','properties.nuclide','properties.duration','properties.dom','properties.source','properties.network_id'\n",
    "#print(tabulate(df1[['geometry.type','geometry.coordinates','properties.id','properties.locality_name','properties.start','properties.end_measure','properties.value']].head(), headers = 'keys', tablefmt = 'psql'))\n"
   ]
  },
  {
   "cell_type": "code",
   "execution_count": null,
   "metadata": {},
   "outputs": [],
   "source": [
    "df1['properties.end_measure'] = pd.to_datetime(df1['properties.end_measure']).dt.tz_localize(None)\n",
    "df1['properties.start'] = pd.to_datetime(df1['properties.end_measure']).dt.tz_localize(None)\n",
    "df1 = df1.set_index(df1['properties.end_measure'])\n",
    "print(df1.sort_values(by='properties.start', ascending=False).head())\n",
    "df1=df1.resample('W').mean()\n",
    "df1.plot()\n",
    "#plt.savefig('filename.jpg')\n",
    "plt.show()"
   ]
  },
  {
   "cell_type": "code",
   "execution_count": null,
   "metadata": {},
   "outputs": [],
   "source": [
    "df1['properties.end_measure'] = pd.to_datetime(df1['properties.end_measure']).dt.tz_localize(None)\n",
    "df1['properties.start'] = pd.to_datetime(df1['properties.end_measure']).dt.tz_localize(None)\n",
    "df1 = df1.set_index(df1['properties.end_measure'])\n",
    "df1=df1.resample('D').sum()\n",
    "sns.set(rc={'figure.figsize':(11, 4)})\n",
    "df1['properties.value'].plot(linewidth=0.5)"
   ]
  },
  {
   "cell_type": "code",
   "execution_count": null,
   "metadata": {},
   "outputs": [],
   "source": [
    "# Create figure and plot space\n",
    "fig, ax = plt.subplots(figsize=(10, 10))\n",
    "\n",
    "# Add x-axis and y-axis\n",
    "ax.scatter(df1.index.values,\n",
    "           df1['properties.value'],\n",
    "           color='blue')\n",
    "\n",
    "# Set title and labels for axes\n",
    "ax.set(xlabel=\"Date\",\n",
    "       ylabel=\"ODL (μSv/h)\",\n",
    "       title=\"Daily ODL - Lüder/Langenbrügge Station 2021-2022\")\n",
    "\n",
    "plt.show()"
   ]
  }
 ],
 "metadata": {
  "kernelspec": {
   "display_name": "Python 3.10.6 ('.venv': venv)",
   "language": "python",
   "name": "python3"
  },
  "language_info": {
   "codemirror_mode": {
    "name": "ipython",
    "version": 3
   },
   "file_extension": ".py",
   "mimetype": "text/x-python",
   "name": "python",
   "nbconvert_exporter": "python",
   "pygments_lexer": "ipython3",
   "version": "3.10.6"
  },
  "orig_nbformat": 4,
  "vscode": {
   "interpreter": {
    "hash": "79a294aac267fc8ea40d9c85507a99a876268caeb80a115690b871d43f953292"
   }
  }
 },
 "nbformat": 4,
 "nbformat_minor": 2
}
